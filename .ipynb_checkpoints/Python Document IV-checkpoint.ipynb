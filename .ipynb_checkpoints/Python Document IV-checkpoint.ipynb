{
 "cells": [
  {
   "cell_type": "markdown",
   "metadata": {},
   "source": [
    "# Object-Oriented-Programming (OOP)"
   ]
  },
  {
   "cell_type": "markdown",
   "metadata": {},
   "source": [
    "## Tasks Today:\n",
    "\n",
    "   \n",
    "\n",
    "1) <b>Creating a Class (Initializing/Declaring)</b> <br>\n",
    "2) <b>Using a Class (Instantiating)</b> <br>\n",
    " &nbsp;&nbsp;&nbsp;&nbsp; a) Creating One Instance <br>\n",
    " &nbsp;&nbsp;&nbsp;&nbsp; b) Creating Multiple Instances <br>\n",
    " &nbsp;&nbsp;&nbsp;&nbsp; c) In-Class Exercise #1 - Create a Class 'Car' and instantiate three different makes of cars <br>\n",
    "3) <b>The \\__init\\__() Method</b> <br>\n",
    " &nbsp;&nbsp;&nbsp;&nbsp; a) The 'self' Attribute <br>\n",
    "4) <b>Class Attributes</b> <br>\n",
    " &nbsp;&nbsp;&nbsp;&nbsp; a) Initializing Attributes <br>\n",
    " &nbsp;&nbsp;&nbsp;&nbsp; b) Setting an Attribute Outside of the \\__init\\__() Method <br>\n",
    " &nbsp;&nbsp;&nbsp;&nbsp; c) Setting Defaults for Attributes <br>\n",
    " &nbsp;&nbsp;&nbsp;&nbsp; d) Accessing Class Attributes <br>\n",
    " &nbsp;&nbsp;&nbsp;&nbsp; e) Changing Class Attributes <br>\n",
    " &nbsp;&nbsp;&nbsp;&nbsp; f) In-Class Exercise #2 - Add a color and wheels attribute to your 'Car' class <br>\n",
    "5) <b>Class Methods</b> <br>\n",
    " &nbsp;&nbsp;&nbsp;&nbsp; a) Creating <br>\n",
    " &nbsp;&nbsp;&nbsp;&nbsp; b) Calling <br>\n",
    " &nbsp;&nbsp;&nbsp;&nbsp; c) Modifying an Attribute's Value Through a Method <br>\n",
    " &nbsp;&nbsp;&nbsp;&nbsp; d) Incrementing an Attribute's Value Through a Method <br>\n",
    " &nbsp;&nbsp;&nbsp;&nbsp; e) In-Class Exercise #3 - Add a method that prints the cars color and wheel number, then call them <br>\n",
    "6) <b>Inheritance</b> <br>\n",
    " &nbsp;&nbsp;&nbsp;&nbsp; a) Syntax for Inheriting from a Parent Class <br>\n",
    " &nbsp;&nbsp;&nbsp;&nbsp; b) The \\__init\\__() Method for a Child Class (super()) <br>\n",
    " &nbsp;&nbsp;&nbsp;&nbsp; c) Defining Attributes and Methods for the Child Class <br>\n",
    " &nbsp;&nbsp;&nbsp;&nbsp; d) Method Overriding <br>\n",
    " &nbsp;&nbsp;&nbsp;&nbsp; e) In-Class Exercise #4 - Create a class 'Ford' that inherits from 'Car' class and initialize it as a Blue Ford Explorer with 4 wheels using the super() method <br>\n",
    "7) <b>Classes as Attributes</b> <br>\n",
    "8) <b>Exercises</b> <br>\n",
    " &nbsp;&nbsp;&nbsp;&nbsp; a) Exercise #1 - Turn the shopping cart program from yesterday into an object-oriented program <br>"
   ]
  },
  {
   "cell_type": "markdown",
   "metadata": {},
   "source": [
    "## Creating a Class (Initializing/Declaring)\n",
    "<p>When creating a class, function, or even a variable you are initializing that object. Initializing and Declaring occur at the same time in Python, whereas in lower level languages you have to declare an object before initializing it. This is the first step in the process of using a class.</p>"
   ]
  },
  {
   "cell_type": "code",
   "execution_count": 4,
   "metadata": {},
   "outputs": [],
   "source": [
    "class Car():\n",
    "    wheels = 4\n",
    "    color = 'blue'\n",
    "    windshield_wipers = \"ee er ee er ee er\""
   ]
  },
  {
   "cell_type": "markdown",
   "metadata": {},
   "source": [
    "## Using a Class (Instantiating)\n",
    "<p>The process of creating a class is called <i>Instantiating</i>. Each time you create a variable of that type of class, it is referred to as an <i>Instance</i> of that class. This is the second step in the process of using a class.</p>"
   ]
  },
  {
   "cell_type": "markdown",
   "metadata": {},
   "source": [
    "##### Creating One Instance"
   ]
  },
  {
   "cell_type": "code",
   "execution_count": 5,
   "metadata": {},
   "outputs": [
    {
     "name": "stdout",
     "output_type": "stream",
     "text": [
      "ee er ee er ee er\n"
     ]
    }
   ],
   "source": [
    "ford = Car()\n",
    "\n",
    "print(ford.windshield_wipers)"
   ]
  },
  {
   "cell_type": "markdown",
   "metadata": {},
   "source": [
    "##### Creating Multiple Instances"
   ]
  },
  {
   "cell_type": "code",
   "execution_count": null,
   "metadata": {},
   "outputs": [],
   "source": [
    "chevy = Car()\n",
    "honda = Car()\n",
    "porsche = Car()"
   ]
  },
  {
   "cell_type": "markdown",
   "metadata": {},
   "source": [
    "##### In-Class Exercise #1 - Create a Class 'Car' and Instantiate three different makes of cars"
   ]
  },
  {
   "cell_type": "code",
   "execution_count": 7,
   "metadata": {},
   "outputs": [],
   "source": [
    "class Car():\n",
    "    color = \"red\"\n",
    "    year = 2010\n",
    "    wheels = 4\n",
    "\n",
    "honda = Car()\n",
    "ford = Car()\n",
    "jeep = Car()"
   ]
  },
  {
   "cell_type": "markdown",
   "metadata": {},
   "source": [
    "## The \\__init\\__() Method <br>\n",
    "<p>This method is used in almost every created class, and called only once upon the creation of the class instance. This method will initialize all variables needed for the object.</p>"
   ]
  },
  {
   "cell_type": "code",
   "execution_count": 8,
   "metadata": {},
   "outputs": [],
   "source": [
    "class Car():\n",
    "    engine = \"4.7L\"\n",
    "    \n",
    "    def __init__(self, make, model, color, wheels=4):\n",
    "        self.make = make\n",
    "        self.model = model\n",
    "        self.color = color\n",
    "        self.wheels = wheels\n",
    "\n",
    "mazda = Car(\"Mazda\", \"Miata\", \"Red\")"
   ]
  },
  {
   "cell_type": "markdown",
   "metadata": {},
   "source": [
    "##### The 'self' Attribute <br>\n",
    "<p>This attribute is required to keep track of specific instance's attributes. Without the self attribute, the program would not know how to reference or keep track of an instance's attributes.</p>"
   ]
  },
  {
   "cell_type": "code",
   "execution_count": null,
   "metadata": {},
   "outputs": [],
   "source": [
    "# see above"
   ]
  },
  {
   "cell_type": "markdown",
   "metadata": {},
   "source": [
    "## Class Attributes <br>\n",
    "<p>While variables are inside of a class, they are referred to as attributes and not variables. When someone says 'attribute' you know they're speaking about a class. Attributes can be initialized through the init method, or outside of it.</p>"
   ]
  },
  {
   "cell_type": "markdown",
   "metadata": {},
   "source": [
    "##### Initializing Attributes"
   ]
  },
  {
   "cell_type": "code",
   "execution_count": 9,
   "metadata": {},
   "outputs": [],
   "source": [
    "# see above\n",
    "\n",
    "class Toy():\n",
    "    kind = \"car\" # <--- this is called a constant\n",
    "    \n",
    "    def __init__(self, rooftop, horn, wheels):\n",
    "        # initialize attributes below\n",
    "        self.rooftop = rooftop\n",
    "        self.horn = horn\n",
    "        self.wheels = wheels\n",
    "        \n",
    "tonka_truck = Toy(1, 1, 4)\n",
    "hotwheels_car = Toy(2, 3, 8)"
   ]
  },
  {
   "cell_type": "markdown",
   "metadata": {},
   "source": [
    "##### Accessing Class Attributes"
   ]
  },
  {
   "cell_type": "code",
   "execution_count": null,
   "metadata": {
    "scrolled": true
   },
   "outputs": [],
   "source": [
    "# See Above"
   ]
  },
  {
   "cell_type": "markdown",
   "metadata": {},
   "source": [
    "##### Setting Defaults for Attributes"
   ]
  },
  {
   "cell_type": "code",
   "execution_count": 14,
   "metadata": {},
   "outputs": [
    {
     "name": "stdout",
     "output_type": "stream",
     "text": [
      "4\n"
     ]
    }
   ],
   "source": [
    "class Car():\n",
    "    engine = \"4.7L\"\n",
    "    \n",
    "    def __init__(self, make, model, year, color, wheels=4):\n",
    "        self.make = make\n",
    "        self.model = model\n",
    "        self.year = year\n",
    "        self.color = color\n",
    "        self.wheels = wheels\n",
    "\n",
    "mazda = Car(\"Mazda\", \"Miata\", 2020, \"Red\")\n",
    "print(mazda.wheels)"
   ]
  },
  {
   "cell_type": "markdown",
   "metadata": {},
   "source": [
    "##### Changing Class Attributes <br>\n",
    "<p>Keep in mind there are global class attributes and then there are attributes only available to each class instance which won't effect other classes.</p>"
   ]
  },
  {
   "cell_type": "code",
   "execution_count": 15,
   "metadata": {},
   "outputs": [
    {
     "name": "stdout",
     "output_type": "stream",
     "text": [
      "Before: Gray\n",
      "After: White\n"
     ]
    }
   ],
   "source": [
    "jeep = Car(\"Jeep\", \"Grand Cherokee\", 1999, \"Gray\")\n",
    "\n",
    "print(f\"Before: {jeep.color}\")\n",
    "\n",
    "jeep.color = \"White\"\n",
    "\n",
    "print(f\"After: {jeep.color}\")"
   ]
  },
  {
   "cell_type": "code",
   "execution_count": null,
   "metadata": {},
   "outputs": [],
   "source": []
  },
  {
   "cell_type": "markdown",
   "metadata": {},
   "source": [
    "##### In-Class Exercise #2 - Add a doors and seats attribute to your 'Car' class then print out two different instances with different doors and seats"
   ]
  },
  {
   "cell_type": "code",
   "execution_count": 20,
   "metadata": {},
   "outputs": [
    {
     "name": "stdout",
     "output_type": "stream",
     "text": [
      "This Mazda Miata has 2 doors and 2 seats.\n",
      "This Jeep Wrangler has 0 doors and 4 seats.\n"
     ]
    }
   ],
   "source": [
    "class Car():\n",
    "    engine = \"4.7L\"\n",
    "    \n",
    "    def __init__(self, make, model, year, color, doors, seats, wheels=4):\n",
    "        self.make = make\n",
    "        self.model = model\n",
    "        self.year = year\n",
    "        self.color = color\n",
    "        self.doors = doors\n",
    "        self.seats = seats\n",
    "        self.wheels = wheels\n",
    "\n",
    "mazda = Car(\"Mazda\", \"Miata\", 2020, \"Red\", 2, 2)\n",
    "print(f\"This {mazda.make} {mazda.model} has {mazda.doors} doors and {mazda.seats} seats.\")\n",
    "\n",
    "wrangler = Car(\"Jeep\", \"Wrangler\", 2018, \"Black\", 0, 4)\n",
    "print(f\"This {wrangler.make} {wrangler.model} has {wrangler.doors} doors and {wrangler.seats} seats.\")"
   ]
  },
  {
   "cell_type": "markdown",
   "metadata": {},
   "source": [
    "## Class Methods <br>\n",
    "<p>While inside of a class, functions are referred to as 'methods'. If you hear someone mention methods, they're speaking about classes. Methods are essentially functions, but only callable on the instances of a class.</p>"
   ]
  },
  {
   "cell_type": "markdown",
   "metadata": {},
   "source": [
    "##### Creating"
   ]
  },
  {
   "cell_type": "code",
   "execution_count": 2,
   "metadata": {},
   "outputs": [],
   "source": [
    "class ShoppingBag():\n",
    "    \"\"\"\n",
    "        Defines a ShoppingBag object with handles, capacity,\n",
    "        and items to place inside.\n",
    "        \n",
    "        Attributes:\n",
    "        - handles: expected to be an int\n",
    "        - capacity: expected to be a string OR an int\n",
    "        - items: expected to be a list\n",
    "    \"\"\"\n",
    "    \n",
    "    def __init__(self, handles, capacity, items=[]):\n",
    "        self.handles = handles\n",
    "        self.capacity = capacity\n",
    "        self.items = items\n",
    "    \n",
    "    # Prints all items currently in 'self.items'\n",
    "    def showBag(self):\n",
    "        print(\"Items currently in your bag: \")\n",
    "        for item in self.items:\n",
    "            print(item)\n",
    "        \n",
    "    # Add item(s) defined by user input to 'self.items'\n",
    "    def addToBag(self):\n",
    "        products = input(\"What would you like to add to the bag? \")\n",
    "        self.items.append(products)\n",
    "            \n",
    "    # Shows how much capacity is left in our bag\n",
    "    def showCapacity(self):\n",
    "        print(f\"Current capacity: {self.capacity}\")\n",
    "        \n",
    "    # Modify 'self.capacity'\n",
    "    def changeCapacity(self, capacity):\n",
    "        self.capacity = capacity\n",
    "        \n",
    "    # Increase 'self.capacity' by a given amount (or 10 by default)\n",
    "    def increaseCapacity(self, cap_mod=10):\n",
    "        if self.capacity == isinstance(self.capacity, str):\n",
    "            print(\"we can't add that here\")\n",
    "        else:\n",
    "            self.capacity += cap_mod"
   ]
  },
  {
   "cell_type": "markdown",
   "metadata": {},
   "source": [
    "##### Calling"
   ]
  },
  {
   "cell_type": "code",
   "execution_count": 4,
   "metadata": {},
   "outputs": [
    {
     "name": "stdout",
     "output_type": "stream",
     "text": [
      "What do you want to do? (Add/Show/Quit) > add\n",
      "What would you like to add to the bag? beans\n",
      "What do you want to do? (Add/Show/Quit) > show\n",
      "Items currently in your bag: \n",
      "beans\n",
      "beans\n",
      "What do you want to do? (Add/Show/Quit) > quit\n",
      "Items currently in your bag: \n",
      "beans\n",
      "beans\n",
      "Thanks for shopping\n"
     ]
    }
   ],
   "source": [
    "# See Above\n",
    "wegners_bag = ShoppingBag(2,10)\n",
    "\n",
    "def run():\n",
    "    while True:\n",
    "        response = input(\"What do you want to do? (Add/Show/Quit) > \")\n",
    "        \n",
    "        if response.lower() == 'quit':\n",
    "            wegners_bag.showBag()\n",
    "            print(\"Thanks for shopping\")\n",
    "            break\n",
    "        elif response.lower() == \"add\":\n",
    "            wegners_bag.addToBag()\n",
    "        elif response.lower() == \"show\":\n",
    "            wegners_bag.showBag()\n",
    "        else:\n",
    "            print(\"Try another command\")\n",
    "\n",
    "run()"
   ]
  },
  {
   "cell_type": "markdown",
   "metadata": {},
   "source": [
    "##### Modifying an Attribute's Value Through a Method"
   ]
  },
  {
   "cell_type": "code",
   "execution_count": 5,
   "metadata": {},
   "outputs": [
    {
     "name": "stdout",
     "output_type": "stream",
     "text": [
      "Current capacity: 10\n",
      "Capacity after change: \n",
      "Current capacity: 40\n"
     ]
    }
   ],
   "source": [
    "wegners_bag.showCapacity()\n",
    "print(\"Capacity after change: \")\n",
    "wegners_bag.changeCapacity(40)\n",
    "wegners_bag.showCapacity()"
   ]
  },
  {
   "cell_type": "markdown",
   "metadata": {},
   "source": [
    "##### Incrementing an Attribute's Value Through a Method"
   ]
  },
  {
   "cell_type": "code",
   "execution_count": 6,
   "metadata": {},
   "outputs": [
    {
     "name": "stdout",
     "output_type": "stream",
     "text": [
      "Current capacity: 40\n",
      "After increase\n",
      "Current capacity: 50\n"
     ]
    }
   ],
   "source": [
    "wegners_bag.showCapacity()\n",
    "print(\"After increase\")\n",
    "wegners_bag.increaseCapacity(10)\n",
    "wegners_bag.showCapacity()"
   ]
  },
  {
   "cell_type": "markdown",
   "metadata": {},
   "source": [
    "##### In-Class Exercise #3 - Add a method that takes in three parameters of year, doors and seats and prints out a formatted print statement with make, model, year, seats, and doors"
   ]
  },
  {
   "cell_type": "code",
   "execution_count": 8,
   "metadata": {},
   "outputs": [
    {
     "name": "stdout",
     "output_type": "stream",
     "text": [
      "This car is a 2020 McLaren Senna with 2 doors and 2 seats\n"
     ]
    }
   ],
   "source": [
    "# Create class with 2 paramters inside of the __init__ which are make and model\n",
    "\n",
    "# Inside of the Car class create a method that has 4 parameter in total (self,year,door,seats)\n",
    "\n",
    "# Output: This car is from 2019 and is a Ford Expolorer and has 4 doors and 5 seats\n",
    "\n",
    "class Car():\n",
    "    \n",
    "    def __init__(self, make, model):\n",
    "        self.make = make\n",
    "        self.model = model\n",
    "        \n",
    "    def describeCar(self, year, doors, seats):\n",
    "        print(f\"This car is a {year} {self.make} {self.model} with {doors} doors and {seats} seats\")\n",
    "        \n",
    "newcar = Car(\"McLaren\", \"Senna\")\n",
    "newcar.describeCar(2020, 2, 2)"
   ]
  },
  {
   "cell_type": "markdown",
   "metadata": {},
   "source": [
    "## Inheritance <br>\n",
    "<p>You can create a child-parent relationship between two classes by using inheritance. What this allows you to do is have overriding methods, but also inherit traits from the parent class. Think of it as an actual parent and child, the child will inherit the parent's genes, as will the classes in OOP</p>"
   ]
  },
  {
   "cell_type": "markdown",
   "metadata": {},
   "source": [
    "##### Syntax for Inheriting from a Parent Class"
   ]
  },
  {
   "cell_type": "code",
   "execution_count": 9,
   "metadata": {},
   "outputs": [
    {
     "name": "stdout",
     "output_type": "stream",
     "text": [
      "Bark\n",
      "bork\n",
      "None\n",
      "9.8\n",
      "15\n"
     ]
    }
   ],
   "source": [
    "# parent class\n",
    "class Animal():\n",
    "    acceleration = 9.8\n",
    "    \n",
    "    def __init__(self, name, species, legs=4):\n",
    "        self.name = name\n",
    "        self.species = species\n",
    "        self.legs = legs\n",
    "        \n",
    "    def makeSound(self):\n",
    "        print(\"bork\")\n",
    "        \n",
    "# child class        \n",
    "class Dog(Animal):\n",
    "    speed = 15\n",
    "    \n",
    "    def printInfo(self):\n",
    "        print(f\"The Dog has {self.speed}mph of speed and {self.acceleration}m/s^2 of gravitational acceleration\")\n",
    "        \n",
    "# grandchild class\n",
    "class Mutt(Dog):\n",
    "    color = \"Tan\"\n",
    "    \n",
    "    def __init__(self, name, species, eye_color, legs=4):\n",
    "        Dog.__init__(self, name, species, legs)\n",
    "        self.eye_color = eye_color\n",
    "        \n",
    "    def makeSound(self):\n",
    "        noise = \"Bark\"\n",
    "        return noise\n",
    "    \n",
    "lassie = Dog(\"Lassie\", \"Dog\")\n",
    "basic_animal = Animal(\"Generic Animal Name\", \"Generic Animal Species\")\n",
    "ting = Mutt(\"Ting\", \"Canis lupus familiaris\", \"Black\")\n",
    "\n",
    "print(ting.makeSound())\n",
    "print(lassie.makeSound())\n",
    "print(ting.acceleration)\n",
    "print(ting.speed)"
   ]
  },
  {
   "cell_type": "markdown",
   "metadata": {},
   "source": [
    "##### The \\__init\\__() Method for a Child Class - super()"
   ]
  },
  {
   "cell_type": "code",
   "execution_count": 10,
   "metadata": {
    "scrolled": true
   },
   "outputs": [
    {
     "name": "stdout",
     "output_type": "stream",
     "text": [
      "Bark\n",
      "bork\n",
      "None\n",
      "9.8\n",
      "15\n"
     ]
    }
   ],
   "source": [
    "class Puppy(Dog):\n",
    "    color = \"black and brown\"\n",
    "    \n",
    "    def __init__(self, name, species, eye_color, legs=4):\n",
    "        super().__init__(name,species,legs)\n",
    "        self.eye_color = eye_color\n",
    "        \n",
    "    def makeSound(self):\n",
    "        noise = \"Ruff\"\n",
    "        return noise\n",
    "    \n",
    "lassie = Dog(\"Lassie\", \"Dog\")\n",
    "basic_animal = Animal(\"Generic Animal Name\", \"Generic Animal Species\")\n",
    "ting = Mutt(\"Ting\", \"Canis lupus familiaris\", \"Black\")\n",
    "\n",
    "print(ting.makeSound())\n",
    "print(lassie.makeSound())\n",
    "print(ting.acceleration)\n",
    "print(ting.speed)"
   ]
  },
  {
   "cell_type": "markdown",
   "metadata": {},
   "source": [
    "##### Defining Attributes and Methods for the Child Class"
   ]
  },
  {
   "cell_type": "code",
   "execution_count": null,
   "metadata": {},
   "outputs": [],
   "source": [
    "# See Above"
   ]
  },
  {
   "cell_type": "markdown",
   "metadata": {},
   "source": [
    "##### Method Overriding"
   ]
  },
  {
   "cell_type": "code",
   "execution_count": null,
   "metadata": {},
   "outputs": [],
   "source": [
    "# See Above"
   ]
  },
  {
   "cell_type": "markdown",
   "metadata": {},
   "source": [
    "## Classes as Attributes <br>\n",
    "<p>Classes can also be used as attributes within another class. This is useful in situations where you need to keep variables locally stored, instead of globally stored.</p>"
   ]
  },
  {
   "cell_type": "code",
   "execution_count": 12,
   "metadata": {},
   "outputs": [
    {
     "name": "stdout",
     "output_type": "stream",
     "text": [
      "20\n"
     ]
    },
    {
     "data": {
      "text/plain": [
       "'2019 Tesla Model X 20'"
      ]
     },
     "execution_count": 12,
     "metadata": {},
     "output_type": "execute_result"
    }
   ],
   "source": [
    "class Battery():\n",
    "    volts = 7.8\n",
    "    \n",
    "    def __init__(self, cells):\n",
    "        self.cells = cells\n",
    "        \n",
    "class EVCar():\n",
    "    def __init__(self, year, make, model, battery):\n",
    "        self.year = year\n",
    "        self.make = make\n",
    "        self.model = model\n",
    "        self.battery = battery\n",
    "        \n",
    "    def printInfo(self):\n",
    "        return f\"{self.year} {self.make} {self.model} {self.battery.cells}\"\n",
    "    \n",
    "my_battery = Battery(20)\n",
    "\n",
    "tesla = EVCar(2019, \"Tesla\", \"Model X\", my_battery)\n",
    "\n",
    "print(tesla.battery.cells)\n",
    "tesla.printInfo()"
   ]
  },
  {
   "cell_type": "markdown",
   "metadata": {},
   "source": [
    "# Exercises"
   ]
  },
  {
   "cell_type": "markdown",
   "metadata": {},
   "source": [
    "### Exercise 1 - Turn the shopping cart program from yesterday into an object-oriented program\n",
    "\n",
    "The comments in the cell below are there as a guide for thinking about the problem. However, if you feel a different way is best for you and your own thought process, please do what feels best for you by all means."
   ]
  },
  {
   "cell_type": "code",
   "execution_count": 4,
   "metadata": {},
   "outputs": [
    {
     "name": "stdout",
     "output_type": "stream",
     "text": [
      "Your Cart:\n",
      "  - beans (x365)\n",
      "Please select one of the following actions: add, remove, checkout\n",
      "> checkout\n"
     ]
    }
   ],
   "source": [
    "from IPython.display import clear_output\n",
    "from inputUtil import *\n",
    "# Create a class called cart that retains items and has methods to add, remove, and show\n",
    "\n",
    "class Cart():\n",
    "    \n",
    "    def __init__(self, items={}):\n",
    "        self.items = items\n",
    "        \n",
    "    def add(self, key, amount=1):\n",
    "        try:\n",
    "            # try adding the given 'amount' of items 'key' to 'items'\n",
    "            self.items[key] += amount\n",
    "        # if 'key' does not have an existing entry in 'items', catch the KeyError and set 'key' to 'amount' instead\n",
    "        except KeyError: self.items[key] = amount\n",
    "        \n",
    "    def remove(self, key, amount=1):\n",
    "        try:\n",
    "            # try subtracting 'amount' from 'key' in 'items'\n",
    "            self.items[key] -= amount\n",
    "            # if 'amount' for 'key' is now 0 or less, remove 'key' from 'items'\n",
    "            if self.items[key] < 1: del self.items[key]\n",
    "        # if 'key' does not have an existing entry in 'items', catch the KeyError and print an error message\n",
    "        except KeyError: print(f\"could not find \\\"{key}\\\" in cart\")\n",
    "        \n",
    "    def show(self):\n",
    "        print(\"Your Cart:\")\n",
    "        for item, count in self.items.items():\n",
    "            print(f\"  - {item} (x{count})\")\n",
    "            \n",
    "# the list of commands that work as valid user inputs in the function below\n",
    "valid_commands = (\"add\",\"remove\",\"checkout\")\n",
    "\n",
    "def userInputLoop(cart):\n",
    "    '''\n",
    "    The part of the program that loops and modifies the\n",
    "    current 'cart' based on actions determined by the user.\n",
    "    '''\n",
    "    userin = \"\"\n",
    "    # loop until the user inputs the command to quit\n",
    "    while userin.lower() != \"checkout\":\n",
    "        # show the current cart and prompt the user for the next action\n",
    "        cart.show()\n",
    "        userin = req_string(\"Please select one of the following actions: add, remove, checkout\\n> \")\n",
    "        \n",
    "        # if the command the user provided is not valid, give an error message and return to start of loop\n",
    "        if userin.lower() not in valid_commands:\n",
    "            clear_output()\n",
    "            print(f\"\\\"{userin}\\\" is not a valid command. Please try again.\")\n",
    "            continue\n",
    "        \n",
    "        # \"add\" command\n",
    "        if userin.lower() == \"add\":\n",
    "            # get additional user input for item name and quantity\n",
    "            userin_add_name = req_string(\"What is the name of the item you would like to add?\\n> \")\n",
    "            userin_add_amount = req_int(\"How many of this item would you like to add?\\n> \", valid_range=(1,1000))\n",
    "            # add the item to the cart\n",
    "            cart.add(userin_add_name, userin_add_amount)\n",
    "            # clear output dialogue and loop\n",
    "            clear_output()\n",
    "            continue\n",
    "        \n",
    "        # \"remove\" command\n",
    "        if userin.lower() == \"remove\":\n",
    "            # get additional user input for item name and quantity\n",
    "            userin_remove_name = req_string(\"What is the name of the item you would like to remove?\\n> \")\n",
    "            userin_remove_amount = req_int(\"How many of this item would you like to remove?\\n> \", valid_range=(1,1000))\n",
    "            # clear output dialogue and remove the item from the cart\n",
    "            clear_output()\n",
    "            cart.remove(userin_remove_name, userin_remove_amount)\n",
    "            # return to beginning of loop\n",
    "            continue\n",
    "        \n",
    "    \n",
    "        \n",
    "            \n",
    "my_cart = Cart()\n",
    "userInputLoop(my_cart)"
   ]
  },
  {
   "cell_type": "markdown",
   "metadata": {},
   "source": [
    "### Exercise 2 - Write a Python class which has two methods get_String and print_String. get_String accept a string from the user and print_String print the string in upper case"
   ]
  },
  {
   "cell_type": "code",
   "execution_count": 5,
   "metadata": {},
   "outputs": [
    {
     "name": "stdout",
     "output_type": "stream",
     "text": [
      "Hands up! Gimme a string and nobody gets hurt!\n",
      "> bozo\n",
      "BOZO\n",
      "haha got ur string\n"
     ]
    }
   ],
   "source": [
    "from inputUtil import *\n",
    "\n",
    "class StringOps():\n",
    "    \n",
    "    def __init__(self):\n",
    "        self.thestring = \"\"\n",
    "        \n",
    "    def get_String(self):\n",
    "        self.thestring = req_string(\"Hands up! Gimme a string and nobody gets hurt!\\n> \")\n",
    "        \n",
    "    def print_String(self):\n",
    "        print(self.thestring.upper())\n",
    "        print(\"haha got ur string\")\n",
    "        \n",
    "string_operator = StringOps()\n",
    "string_operator.get_String()\n",
    "string_operator.print_String()"
   ]
  },
  {
   "cell_type": "code",
   "execution_count": null,
   "metadata": {},
   "outputs": [],
   "source": []
  }
 ],
 "metadata": {
  "kernelspec": {
   "display_name": "Python 3 (ipykernel)",
   "language": "python",
   "name": "python3"
  },
  "language_info": {
   "codemirror_mode": {
    "name": "ipython",
    "version": 3
   },
   "file_extension": ".py",
   "mimetype": "text/x-python",
   "name": "python",
   "nbconvert_exporter": "python",
   "pygments_lexer": "ipython3",
   "version": "3.9.12"
  }
 },
 "nbformat": 4,
 "nbformat_minor": 2
}
